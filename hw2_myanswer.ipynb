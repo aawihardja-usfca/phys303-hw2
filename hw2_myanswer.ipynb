{
 "cells": [
  {
   "cell_type": "code",
   "execution_count": 1,
   "id": "ef2f281e-5881-42f3-91ec-dafe53472ac6",
   "metadata": {},
   "outputs": [],
   "source": [
    "%matplotlib inline\n",
    "\n",
    "import numpy as np\n",
    "import matplotlib.pyplot as plt\n",
    "plt.rcParams['figure.figsize'] = (5.0, 4.0)"
   ]
  },
  {
   "cell_type": "code",
   "execution_count": 2,
   "id": "c7eecc47-72f3-47c3-b3ff-07c8c4132c14",
   "metadata": {},
   "outputs": [],
   "source": [
    "# Prior array represents the prior probability\n",
    "prior_arr = np.append(np.repeat(False, 990), np.repeat(True, 10))\n",
    "\n",
    "# Likelihood array represents both TPR and FPR\n",
    "likelihood_arr = np.append(np.repeat(True, 95), np.repeat(False, 5))"
   ]
  },
  {
   "cell_type": "markdown",
   "id": "2ccb9c5b-1f0c-45d0-b339-3e269edf102f",
   "metadata": {},
   "source": [
    "Simulate a population size of 1000. Iterate through each person — let’s use i as the index —\n",
    "and use np.random.choice() to sample from the prior array. Obviously you will get\n",
    "99% False (without disease) and 1% True (with disease). Check to make sure that is\n",
    "indeed the case: you can sample 1000 times and count the results (in code, obviously)."
   ]
  },
  {
   "cell_type": "code",
   "execution_count": 3,
   "id": "1b372059-6061-4a52-aa42-bbe5b47f49b5",
   "metadata": {},
   "outputs": [],
   "source": [
    "pop_1000 = np.random.choice(prior_arr, size=(1000,))"
   ]
  },
  {
   "cell_type": "code",
   "execution_count": 4,
   "id": "3da006a1-1d46-41b1-a73e-d25d063fb365",
   "metadata": {},
   "outputs": [],
   "source": [
    "# Function to count zero and non-zeros\n",
    "def count_sample(sample: np.ndarray) -> tuple[int, int]:\n",
    "    \"\"\"\n",
    "    Count the number of zero and non-zero in an array\n",
    "    \n",
    "    Args:\n",
    "        sample: ndarray\n",
    "        \n",
    "    Returns:\n",
    "        tuple of (zero_count, non_zero_count)\n",
    "    \"\"\"\n",
    "    \n",
    "    sample_flat = sample.flatten()\n",
    "    m = sample_flat.shape[0]\n",
    "    nonzero = np.count_nonzero(sample_flat)\n",
    "    return m - nonzero, nonzero"
   ]
  },
  {
   "cell_type": "code",
   "execution_count": 5,
   "id": "8c524d29-c5d7-4c22-9e7a-a35196f47094",
   "metadata": {},
   "outputs": [
    {
     "name": "stdout",
     "output_type": "stream",
     "text": [
      "False: 992, True: 8\n"
     ]
    }
   ],
   "source": [
    "false_count, true_count = count_sample(pop_1000)\n",
    "print(f\"False: {false_count}, True: {true_count}\")"
   ]
  },
  {
   "cell_type": "code",
   "execution_count": 6,
   "id": "9e03f732-7029-48a2-9e19-2718acab1d37",
   "metadata": {},
   "outputs": [],
   "source": [
    "def simulate_pop(prior, likelihood, likelihood_alt=None, count=1000) -> tuple[np.ndarray, np.ndarray]:\n",
    "    \"\"\"\n",
    "    Generate a sample population (with ground truth label and predicted label) \n",
    "    \n",
    "    Args:\n",
    "        prior: the prior to draw population from\n",
    "        likelihood: likelihood of testing positive, given the person has the disease\n",
    "        likelihood_alt: likelihood of testing negative, given the person doesn't have the disease\n",
    "        count: sample count\n",
    "        \n",
    "    Returns:\n",
    "        tuple of (samples, test_results)\n",
    "    \"\"\"\n",
    "    \n",
    "    samples = np.array([], dtype=bool)\n",
    "    test_results = np.array([], dtype=bool)\n",
    "\n",
    "    # Assume likelihood_alt = ~likelihood\n",
    "    if likelihood_alt is None:\n",
    "        likelihood_alt = np.logical_not(likelihood)\n",
    "    \n",
    "    for i in range(count):\n",
    "        sample = np.random.choice(prior)\n",
    "        if sample:\n",
    "            result = np.random.choice(likelihood)\n",
    "        else:\n",
    "            result = np.random.choice(likelihood_alt)\n",
    "            \n",
    "        samples = np.append(samples, sample)\n",
    "        test_results = np.append(test_results, result)\n",
    "        \n",
    "    return samples, test_results"
   ]
  },
  {
   "cell_type": "code",
   "execution_count": 7,
   "id": "be163f6b-4140-4edc-9852-7f6eb1ebc1c6",
   "metadata": {},
   "outputs": [],
   "source": [
    "samples, test_results = simulate_pop(prior_arr, likelihood_arr)"
   ]
  },
  {
   "cell_type": "code",
   "execution_count": 8,
   "id": "0ed4a604-2644-4b3f-9e43-3b2d7027ee17",
   "metadata": {},
   "outputs": [
    {
     "name": "stdout",
     "output_type": "stream",
     "text": [
      "Not infected=988, Infected=12\n",
      "Test correct=945, Test incorrect=55\n"
     ]
    }
   ],
   "source": [
    "no_disease, yes_disease = count_sample(samples)\n",
    "print(f\"Not infected={no_disease}, Infected={yes_disease}\")\n",
    "\n",
    "test_correct, test_incorrect = count_sample(test_results)\n",
    "print(f\"Test correct={test_correct}, Test incorrect={test_incorrect}\")"
   ]
  },
  {
   "cell_type": "code",
   "execution_count": 9,
   "id": "09ea4095-b25b-49e3-8546-97bd49918340",
   "metadata": {},
   "outputs": [],
   "source": [
    "# If prior_sample[i] & test_result[i] -> TP\n",
    "# If !prior_sample[i] & test_result[i] -> FP\n",
    "\n",
    "def count_tp_fp(ground_truth: np.ndarray, pred: np.ndarray) -> tuple[int, int]:\n",
    "    \"\"\"\n",
    "    Count the true_positive and false_positive, given ground truth and predicted label\n",
    "    \n",
    "    Args:\n",
    "        ground_truth: the ground truth label\n",
    "        pred: predicted label\n",
    "        \n",
    "    Returns:\n",
    "        tuple of (true positive, false positive)\n",
    "    \"\"\"\n",
    "    \n",
    "    assert ground_truth.shape == pred.shape, \"Dimensions of inputs don't match\"\n",
    "    tp = 0\n",
    "    fp = 0\n",
    "    m = ground_truth.shape[0]\n",
    "    for i in range(m):\n",
    "        if ground_truth[i] == True and pred[i] == True:\n",
    "            tp += 1\n",
    "        elif ground_truth[i] == False and pred[i] == True:\n",
    "            fp += 1\n",
    "    return tp, fp"
   ]
  },
  {
   "cell_type": "code",
   "execution_count": 10,
   "id": "6cc21cf3-1a69-4dfb-b643-c5a387469361",
   "metadata": {},
   "outputs": [
    {
     "name": "stdout",
     "output_type": "stream",
     "text": [
      "True positive=12, False positive=43\n"
     ]
    }
   ],
   "source": [
    "tp, fp = count_tp_fp(samples, test_results)\n",
    "print(f\"True positive={tp}, False positive={fp}\")"
   ]
  },
  {
   "cell_type": "code",
   "execution_count": 11,
   "id": "a172afc0-2f7d-4714-9124-152c4e5fca80",
   "metadata": {},
   "outputs": [
    {
     "name": "stdout",
     "output_type": "stream",
     "text": [
      "new_prior=0.21818181818181817\n"
     ]
    }
   ],
   "source": [
    "new_prior = tp / (tp + fp)\n",
    "print(f\"new_prior={new_prior}\")"
   ]
  },
  {
   "cell_type": "code",
   "execution_count": 12,
   "id": "e5bbced9-c02b-49e9-91b8-ec75ff90fef1",
   "metadata": {},
   "outputs": [],
   "source": [
    "def repeat_sampling(k, prior, likelihood, likelihood_alt=None, sample_count=1000):\n",
    "    priors = np.array([])\n",
    "\n",
    "    for i in range(k):\n",
    "        samples, test_results = simulate_pop(prior, likelihood, likelihood_alt, sample_count)\n",
    "        tp, fp = count_tp_fp(samples, test_results)\n",
    "        new_prior = tp / (tp + fp)\n",
    "        priors = np.append(priors, new_prior)\n",
    "        \n",
    "    return priors"
   ]
  },
  {
   "cell_type": "code",
   "execution_count": 13,
   "id": "d9f016db-8a93-4a5e-9f36-7d7782f51806",
   "metadata": {},
   "outputs": [
    {
     "data": {
      "text/plain": [
       "array([0.20588235, 0.16176471, 0.12      ])"
      ]
     },
     "execution_count": 13,
     "metadata": {},
     "output_type": "execute_result"
    }
   ],
   "source": [
    "priors = repeat_sampling(3, prior_arr, likelihood_arr, sample_count=1000)\n",
    "priors"
   ]
  },
  {
   "cell_type": "code",
   "execution_count": 14,
   "id": "be4619a9-bf76-48a5-9ae4-82623b6d0a20",
   "metadata": {},
   "outputs": [],
   "source": [
    "def priors_stat(priors: np.ndarray):\n",
    "    mean = np.mean(priors)\n",
    "    median = np.median(priors)\n",
    "    unique_vals, counts = np.unique(priors, return_counts=True)\n",
    "    mode = unique_vals[np.argmax(counts)]\n",
    "    std = np.std(priors)\n",
    "\n",
    "    return {\n",
    "        'mean': mean,\n",
    "        'median': median,\n",
    "        'mode': mode,\n",
    "        'std': std\n",
    "    }"
   ]
  },
  {
   "cell_type": "code",
   "execution_count": 15,
   "id": "fec37199-8e14-46c9-bdb9-b3ac8edd5b94",
   "metadata": {},
   "outputs": [
    {
     "name": "stdout",
     "output_type": "stream",
     "text": [
      "{'mean': np.float64(0.16254901960784315), 'median': np.float64(0.16176470588235295), 'mode': np.float64(0.12), 'std': np.float64(0.035065709724203926)}\n"
     ]
    }
   ],
   "source": [
    "stat = priors_stat(priors)\n",
    "print(stat)"
   ]
  },
  {
   "cell_type": "markdown",
   "id": "a51efed2-ae32-4197-a2d7-eb7ce6a0a40e",
   "metadata": {},
   "source": [
    "Plotting Histogram"
   ]
  },
  {
   "cell_type": "code",
   "execution_count": 16,
   "id": "d97afe5a-6735-4043-8c47-4ad3b0628a5f",
   "metadata": {},
   "outputs": [],
   "source": [
    "def plot_hist(data: np.ndarray, n_bins: int, vline_val:float, debug:bool=False):\n",
    "    \"\"\"Plot the histogram\"\"\"\n",
    "\n",
    "    counts, bin_range = np.histogram(data, bins=n_bins)\n",
    "    \n",
    "    if debug:\n",
    "        print(\"Histogram counts:\", counts)\n",
    "        print(\"Bin range:\", bin_range)\n",
    "        \n",
    "    plt.hist(bin_range[:-1], bin_range, weights=counts)\n",
    "    plt.vlines(vline_val, ymin=0, ymax=np.max(counts), colors='green', label='expected')\n",
    "    plt.show()"
   ]
  },
  {
   "cell_type": "code",
   "execution_count": 17,
   "id": "7d34b9ae-d48e-4611-b3f8-12f821bea148",
   "metadata": {},
   "outputs": [
    {
     "data": {
      "image/png": "[encoded data removed]",
      "text/plain": [
       "<Figure size 500x400 with 1 Axes>"
      ]
     },
     "metadata": {},
     "output_type": "display_data"
    }
   ],
   "source": [
    "data = np.random.randn(100000)\n",
    "plot_hist(data, n_bins=20, vline_val=0.16)"
   ]
  },
  {
   "cell_type": "code",
   "execution_count": 18,
   "id": "744eba7b-f7bf-4f43-b24a-66a69142ab99",
   "metadata": {},
   "outputs": [
    {
     "name": "stdout",
     "output_type": "stream",
     "text": [
      "Histogram counts: [1 1 1]\n",
      "Bin range: [0.12       0.14862745 0.1772549  0.20588235]\n"
     ]
    },
    {
     "data": {
      "image/png": "[encoded data removed]",
      "text/plain": [
       "<Figure size 500x400 with 1 Axes>"
      ]
     },
     "metadata": {},
     "output_type": "display_data"
    }
   ],
   "source": [
    "plot_hist(priors, n_bins=3, vline_val=0.16, debug=True)"
   ]
  },
  {
   "cell_type": "code",
   "execution_count": 19,
   "id": "49adb176-3b5f-4896-9bd4-085ff51c1e02",
   "metadata": {},
   "outputs": [
    {
     "data": {
      "image/png": "[encoded data removed]",
      "text/plain": [
       "<Figure size 500x400 with 1 Axes>"
      ]
     },
     "metadata": {},
     "output_type": "display_data"
    }
   ],
   "source": [
    "priors = repeat_sampling(1000, prior_arr, likelihood_arr, sample_count=1000)\n",
    "plot_hist(priors, n_bins=8, vline_val=0.16)"
   ]
  },
  {
   "cell_type": "code",
   "execution_count": 20,
   "id": "a0cfb06a-b750-4bf5-97af-d91d6a6b11fa",
   "metadata": {},
   "outputs": [
    {
     "data": {
      "image/png": "[encoded data removed]",
      "text/plain": [
       "<Figure size 500x400 with 1 Axes>"
      ]
     },
     "metadata": {},
     "output_type": "display_data"
    }
   ],
   "source": [
    "priors = repeat_sampling(10000, prior_arr, likelihood_arr, sample_count=1000)\n",
    "plot_hist(priors, n_bins=20, vline_val=0.16)"
   ]
  }
 ],
 "metadata": {
  "kernelspec": {
   "display_name": "Python 3 (ipykernel)",
   "language": "python",
   "name": "python3"
  },
  "language_info": {
   "codemirror_mode": {
    "name": "ipython",
    "version": 3
   },
   "file_extension": ".py",
   "mimetype": "text/x-python",
   "name": "python",
   "nbconvert_exporter": "python",
   "pygments_lexer": "ipython3",
   "version": "3.12.3"
  }
 },
 "nbformat": 4,
 "nbformat_minor": 5
}
